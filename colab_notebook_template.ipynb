{
  "nbformat": 4,
  "nbformat_minor": 0,
  "metadata": {
    "colab": {
      "name": "colab_notebook_template.ipynb",
      "provenance": [],
      "collapsed_sections": [],
      "authorship_tag": "ABX9TyPfu6ucUsFpmiyAIJZS4nu4",
      "include_colab_link": true
    },
    "kernelspec": {
      "name": "python3",
      "display_name": "Python 3"
    }
  },
  "cells": [
    {
      "cell_type": "markdown",
      "metadata": {
        "id": "view-in-github",
        "colab_type": "text"
      },
      "source": [
        "<a href=\"https://colab.research.google.com/github/darkshadow013/ML-practice/blob/master/colab_notebook_template.ipynb\" target=\"_parent\"><img src=\"https://colab.research.google.com/assets/colab-badge.svg\" alt=\"Open In Colab\"/></a>"
      ]
    },
    {
      "cell_type": "markdown",
      "metadata": {
        "id": "MyKES_8PptkB"
      },
      "source": [
        "# Before Running Follow these Steps.\n",
        "\n",
        "### 1. Mount Google Drive Using File Viewer\n",
        "### 2. Change Dataset API Link from Kaggle\n",
        "### 3. This Setup is Specifically for kaggle Datasets."
      ]
    },
    {
      "cell_type": "code",
      "metadata": {
        "id": "8k7_rru9pnkL"
      },
      "source": [
        "import os\n",
        "os.environ['KAGGLE_CONFIG_DIR'] = \"/content/drive/My Drive/Kaggle\"\n",
        "%cd /content/drive/My Drive/Kaggle\n",
        "!kaggle datasets download -d helloitsdaksh/datasheet\n",
        "!unzip \\*.zip  && rm *.zip"
      ],
      "execution_count": null,
      "outputs": []
    }
  ]
}